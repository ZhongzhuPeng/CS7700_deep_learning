{
 "cells": [
  {
   "cell_type": "code",
   "execution_count": 1,
   "metadata": {
    "collapsed": false,
    "deletable": true,
    "editable": true
   },
   "outputs": [
    {
     "name": "stdout",
     "output_type": "stream",
     "text": [
      "Populating the interactive namespace from numpy and matplotlib\n"
     ]
    }
   ],
   "source": [
    "%pylab inline"
   ]
  },
  {
   "cell_type": "code",
   "execution_count": 2,
   "metadata": {
    "collapsed": false,
    "deletable": true,
    "editable": true
   },
   "outputs": [
    {
     "name": "stderr",
     "output_type": "stream",
     "text": [
      "Using TensorFlow backend.\n"
     ]
    }
   ],
   "source": [
    "import numpy as np\n",
    "from keras.models import Sequential\n",
    "from keras.layers import Dense, Activation\n",
    "from keras.callbacks import EarlyStopping, Callback\n",
    "import time"
   ]
  },
  {
   "cell_type": "markdown",
   "metadata": {
    "deletable": true,
    "editable": true
   },
   "source": [
    "### Load data\n",
    "Load the (handwriting) digits data. There are 3 sets of data: train, valid, and test. Each set is a tuple with set[0] the data and set[1] the label. "
   ]
  },
  {
   "cell_type": "code",
   "execution_count": 3,
   "metadata": {
    "collapsed": false,
    "deletable": true,
    "editable": true
   },
   "outputs": [],
   "source": [
    "# Using python 3 but the pickle file is in python 2\n",
    "# so some extra work need to be done\n",
    "import pickle\n",
    "import gzip\n",
    "f = gzip.open('mnist.pkl.gz', 'rb')\n",
    "train_set, valid_set, test_set = pickle.load(f,encoding='latin1')\n",
    "f.close()"
   ]
  },
  {
   "cell_type": "code",
   "execution_count": 4,
   "metadata": {
    "collapsed": false,
    "deletable": true,
    "editable": true
   },
   "outputs": [
    {
     "name": "stdout",
     "output_type": "stream",
     "text": [
      "(50000, 784) (10000, 784) (10000, 784)\n"
     ]
    }
   ],
   "source": [
    "print(train_set[0].shape, valid_set[0].shape, test_set[0].shape)\n",
    "img_dim = train_set[0].shape[1]\n",
    "n_class = 10  ## There are 10 clases: digits 0-9"
   ]
  },
  {
   "cell_type": "markdown",
   "metadata": {
    "deletable": true,
    "editable": true
   },
   "source": [
    "### Visualize data\n",
    "Plot some of the digits images"
   ]
  },
  {
   "cell_type": "code",
   "execution_count": 5,
   "metadata": {
    "collapsed": false,
    "deletable": true,
    "editable": true
   },
   "outputs": [
    {
     "name": "stdout",
     "output_type": "stream",
     "text": [
      "1\n"
     ]
    },
    {
     "data": {
      "image/png": "[encoded data removed]",
      "text/plain": [
       "<matplotlib.figure.Figure at 0x2afe5f6befd0>"
      ]
     },
     "metadata": {},
     "output_type": "display_data"
    }
   ],
   "source": [
    "i = 70\n",
    "imshow(train_set[0][i].reshape((28, 28)), cmap=cm.gray, interpolation='none')\n",
    "print(train_set[1][i])"
   ]
  },
  {
   "cell_type": "markdown",
   "metadata": {
    "deletable": true,
    "editable": true
   },
   "source": [
    "### Define the neural network model"
   ]
  },
  {
   "cell_type": "code",
   "execution_count": 6,
   "metadata": {
    "collapsed": false,
    "deletable": true,
    "editable": true
   },
   "outputs": [],
   "source": [
    "model = Sequential()\n",
    "model.add(Dense(100, activation='sigmoid', input_dim=img_dim))\n",
    "model.add(Dense(n_class, activation='softmax'))\n",
    "model.compile(loss='sparse_categorical_crossentropy', optimizer='adam', metrics=['accuracy'])"
   ]
  },
  {
   "cell_type": "markdown",
   "metadata": {
    "deletable": true,
    "editable": true
   },
   "source": [
    "### Train the model, using validation data to determine when to stop"
   ]
  },
  {
   "cell_type": "code",
   "execution_count": 35,
   "metadata": {
    "collapsed": false,
    "deletable": true,
    "editable": true
   },
   "outputs": [
    {
     "name": "stdout",
     "output_type": "stream",
     "text": [
      "Train on 50000 samples, validate on 10000 samples\n",
      "Epoch 1/50\n",
      "49920/50000 [============================>.] - ETA: 0s - loss: 0.7021 - acc: 0.8374\n",
      "test acc:0.911\n",
      "\n",
      "50000/50000 [==============================] - 2s - loss: 0.7018 - acc: 0.8374 - val_loss: 0.3305 - val_acc: 0.9146\n",
      "Epoch 2/50\n",
      "49920/50000 [============================>.] - ETA: 0s - loss: 0.3098 - acc: 0.9154\n",
      "test acc:0.9258\n",
      "\n",
      "50000/50000 [==============================] - 2s - loss: 0.3097 - acc: 0.9154 - val_loss: 0.2521 - val_acc: 0.9300\n",
      "Epoch 3/50\n",
      "49920/50000 [============================>.] - ETA: 0s - loss: 0.2489 - acc: 0.9294\n",
      "test acc:0.9362\n",
      "\n",
      "50000/50000 [==============================] - 3s - loss: 0.2490 - acc: 0.9294 - val_loss: 0.2150 - val_acc: 0.9392\n",
      "Epoch 4/50\n",
      "49920/50000 [============================>.] - ETA: 0s - loss: 0.2127 - acc: 0.9395\n",
      "test acc:0.9446\n",
      "\n",
      "50000/50000 [==============================] - 3s - loss: 0.2130 - acc: 0.9394 - val_loss: 0.1892 - val_acc: 0.9485\n",
      "Epoch 5/50\n",
      "49792/50000 [============================>.] - ETA: 0s - loss: 0.1862 - acc: 0.9472\n",
      "test acc:0.9494\n",
      "\n",
      "50000/50000 [==============================] - 3s - loss: 0.1860 - acc: 0.9473 - val_loss: 0.1726 - val_acc: 0.9510\n",
      "Epoch 6/50\n",
      "49792/50000 [============================>.] - ETA: 0s - loss: 0.1656 - acc: 0.9527\n",
      "test acc:0.9539\n",
      "\n",
      "50000/50000 [==============================] - 4s - loss: 0.1653 - acc: 0.9528 - val_loss: 0.1577 - val_acc: 0.9562\n",
      "Epoch 7/50\n",
      "49792/50000 [============================>.] - ETA: 0s - loss: 0.1481 - acc: 0.9574\n",
      "test acc:0.9575\n",
      "\n",
      "50000/50000 [==============================] - 4s - loss: 0.1482 - acc: 0.9573 - val_loss: 0.1463 - val_acc: 0.9595\n",
      "Epoch 8/50\n",
      "49792/50000 [============================>.] - ETA: 0s - loss: 0.1335 - acc: 0.9611\n",
      "test acc:0.9595\n",
      "\n",
      "50000/50000 [==============================] - 4s - loss: 0.1335 - acc: 0.9611 - val_loss: 0.1371 - val_acc: 0.9630\n",
      "Epoch 9/50\n",
      "49920/50000 [============================>.] - ETA: 0s - loss: 0.1210 - acc: 0.9659\n",
      "test acc:0.9618\n",
      "\n",
      "50000/50000 [==============================] - 5s - loss: 0.1209 - acc: 0.9659 - val_loss: 0.1290 - val_acc: 0.9623\n",
      "Epoch 10/50\n",
      "49920/50000 [============================>.] - ETA: 0s - loss: 0.1107 - acc: 0.9687\n",
      "test acc:0.965\n",
      "\n",
      "50000/50000 [==============================] - 4s - loss: 0.1106 - acc: 0.9687 - val_loss: 0.1226 - val_acc: 0.9654\n",
      "Epoch 11/50\n",
      "49792/50000 [============================>.] - ETA: 0s - loss: 0.1004 - acc: 0.9721\n",
      "test acc:0.9663\n",
      "\n",
      "50000/50000 [==============================] - 4s - loss: 0.1005 - acc: 0.9721 - val_loss: 0.1144 - val_acc: 0.9680\n",
      "Epoch 12/50\n",
      "49920/50000 [============================>.] - ETA: 0s - loss: 0.0924 - acc: 0.9746\n",
      "test acc:0.9676\n",
      "\n",
      "50000/50000 [==============================] - 4s - loss: 0.0923 - acc: 0.9746 - val_loss: 0.1103 - val_acc: 0.9685\n",
      "Epoch 13/50\n",
      "49920/50000 [============================>.] - ETA: 0s - loss: 0.0848 - acc: 0.9771\n",
      "test acc:0.9691\n",
      "\n",
      "50000/50000 [==============================] - 4s - loss: 0.0847 - acc: 0.9772 - val_loss: 0.1062 - val_acc: 0.9711\n",
      "Epoch 14/50\n",
      "49920/50000 [============================>.] - ETA: 0s - loss: 0.0778 - acc: 0.9788\n",
      "test acc:0.9707\n",
      "\n",
      "50000/50000 [==============================] - 4s - loss: 0.0777 - acc: 0.9788 - val_loss: 0.1020 - val_acc: 0.9713\n",
      "Epoch 15/50\n",
      "49920/50000 [============================>.] - ETA: 0s - loss: 0.0716 - acc: 0.9805\n",
      "test acc:0.9709\n",
      "\n",
      "50000/50000 [==============================] - 4s - loss: 0.0716 - acc: 0.9806 - val_loss: 0.0998 - val_acc: 0.9713\n",
      "Epoch 16/50\n",
      "49920/50000 [============================>.] - ETA: 0s - loss: 0.0653 - acc: 0.9831\n",
      "test acc:0.973\n",
      "\n",
      "50000/50000 [==============================] - 4s - loss: 0.0654 - acc: 0.9831 - val_loss: 0.0960 - val_acc: 0.9717\n",
      "Epoch 17/50\n",
      "49920/50000 [============================>.] - ETA: 0s - loss: 0.0608 - acc: 0.9843\n",
      "test acc:0.9726\n",
      "\n",
      "50000/50000 [==============================] - 4s - loss: 0.0608 - acc: 0.9843 - val_loss: 0.0951 - val_acc: 0.9719\n",
      "Epoch 18/50\n",
      "49920/50000 [============================>.] - ETA: 0s - loss: 0.0561 - acc: 0.9858\n",
      "test acc:0.974\n",
      "\n",
      "50000/50000 [==============================] - 3s - loss: 0.0560 - acc: 0.9858 - val_loss: 0.0938 - val_acc: 0.9717\n",
      "Epoch 19/50\n",
      "49920/50000 [============================>.] - ETA: 0s - loss: 0.0514 - acc: 0.9874\n",
      "test acc:0.9735\n",
      "\n",
      "50000/50000 [==============================] - 3s - loss: 0.0514 - acc: 0.9874 - val_loss: 0.0903 - val_acc: 0.9742\n",
      "Epoch 20/50\n",
      "49792/50000 [============================>.] - ETA: 0s - loss: 0.0476 - acc: 0.9886\n",
      "test acc:0.9734\n",
      "\n",
      "50000/50000 [==============================] - 3s - loss: 0.0477 - acc: 0.9886 - val_loss: 0.0914 - val_acc: 0.9734\n",
      "Epoch 21/50\n",
      "49792/50000 [============================>.] - ETA: 0s - loss: 0.0441 - acc: 0.9895\n",
      "test acc:0.9746\n",
      "\n",
      "50000/50000 [==============================] - 3s - loss: 0.0441 - acc: 0.9895 - val_loss: 0.0877 - val_acc: 0.9741\n",
      "Epoch 22/50\n",
      "49920/50000 [============================>.] - ETA: 0s - loss: 0.0406 - acc: 0.9906\n",
      "test acc:0.9749\n",
      "\n",
      "50000/50000 [==============================] - 3s - loss: 0.0406 - acc: 0.9906 - val_loss: 0.0872 - val_acc: 0.9739\n",
      "Epoch 23/50\n",
      "49920/50000 [============================>.] - ETA: 0s - loss: 0.0375 - acc: 0.9919\n",
      "test acc:0.9759\n",
      "\n",
      "50000/50000 [==============================] - 3s - loss: 0.0374 - acc: 0.9919 - val_loss: 0.0853 - val_acc: 0.9745\n",
      "Epoch 24/50\n",
      "49920/50000 [============================>.] - ETA: 0s - loss: 0.0347 - acc: 0.9927\n",
      "test acc:0.975\n",
      "\n",
      "50000/50000 [==============================] - 3s - loss: 0.0347 - acc: 0.9927 - val_loss: 0.0865 - val_acc: 0.9745\n",
      "Epoch 25/50\n",
      "49792/50000 [============================>.] - ETA: 0s - loss: 0.0318 - acc: 0.9936\n",
      "test acc:0.9756\n",
      "\n",
      "50000/50000 [==============================] - 3s - loss: 0.0318 - acc: 0.9936 - val_loss: 0.0854 - val_acc: 0.9751\n",
      "Epoch 26/50\n",
      "49792/50000 [============================>.] - ETA: 0s - loss: 0.0295 - acc: 0.9944\n",
      "test acc:0.9766\n",
      "\n",
      "50000/50000 [==============================] - 3s - loss: 0.0295 - acc: 0.9944 - val_loss: 0.0841 - val_acc: 0.9754\n",
      "Epoch 27/50\n",
      "49920/50000 [============================>.] - ETA: 0s - loss: 0.0270 - acc: 0.9950\n",
      "test acc:0.9761\n",
      "\n",
      "50000/50000 [==============================] - 3s - loss: 0.0270 - acc: 0.9949 - val_loss: 0.0844 - val_acc: 0.9750\n",
      "Epoch 28/50\n",
      "49920/50000 [============================>.] - ETA: 0s - loss: 0.0249 - acc: 0.9958\n",
      "test acc:0.9757\n",
      "\n",
      "50000/50000 [==============================] - 2s - loss: 0.0249 - acc: 0.9958 - val_loss: 0.0826 - val_acc: 0.9749\n",
      "Epoch 29/50\n",
      "49920/50000 [============================>.] - ETA: 0s - loss: 0.0228 - acc: 0.9968\n",
      "test acc:0.9768\n",
      "\n",
      "50000/50000 [==============================] - 3s - loss: 0.0228 - acc: 0.9968 - val_loss: 0.0828 - val_acc: 0.9760\n",
      "Epoch 30/50\n",
      "49920/50000 [============================>.] - ETA: 0s - loss: 0.0212 - acc: 0.9970\n",
      "test acc:0.975\n",
      "\n",
      "50000/50000 [==============================] - 3s - loss: 0.0212 - acc: 0.9970 - val_loss: 0.0835 - val_acc: 0.9755\n",
      "Epoch 31/50\n",
      "49792/50000 [============================>.] - ETA: 0s - loss: 0.0194 - acc: 0.9973\n",
      "test acc:0.9768\n",
      "\n",
      "50000/50000 [==============================] - 3s - loss: 0.0194 - acc: 0.9973 - val_loss: 0.0832 - val_acc: 0.9753\n",
      "Epoch 32/50\n",
      "49920/50000 [============================>.] - ETA: 0s - loss: 0.0179 - acc: 0.9975\n",
      "test acc:0.9768\n",
      "\n",
      "50000/50000 [==============================] - 3s - loss: 0.0179 - acc: 0.9975 - val_loss: 0.0826 - val_acc: 0.9751\n",
      "Epoch 33/50\n",
      "49920/50000 [============================>.] - ETA: 0s - loss: 0.0163 - acc: 0.9980\n",
      "test acc:0.9771\n",
      "\n",
      "50000/50000 [==============================] - 3s - loss: 0.0163 - acc: 0.9980 - val_loss: 0.0825 - val_acc: 0.9757\n",
      "Epoch 34/50\n",
      "49920/50000 [============================>.] - ETA: 0s - loss: 0.0149 - acc: 0.9984\n",
      "test acc:0.9768\n",
      "\n",
      "50000/50000 [==============================] - 3s - loss: 0.0149 - acc: 0.9984 - val_loss: 0.0823 - val_acc: 0.9779\n",
      "Epoch 35/50\n",
      "49792/50000 [============================>.] - ETA: 0s - loss: 0.0139 - acc: 0.9984\n",
      "test acc:0.977\n",
      "\n",
      "50000/50000 [==============================] - 3s - loss: 0.0139 - acc: 0.9984 - val_loss: 0.0837 - val_acc: 0.9744\n",
      "Epoch 36/50\n",
      "49920/50000 [============================>.] - ETA: 0s - loss: 0.0127 - acc: 0.9989\n",
      "test acc:0.9763\n",
      "\n",
      "50000/50000 [==============================] - 3s - loss: 0.0127 - acc: 0.9988 - val_loss: 0.0824 - val_acc: 0.9761\n",
      "Epoch 37/50\n",
      "49792/50000 [============================>.] - ETA: 0s - loss: 0.0116 - acc: 0.9989\n",
      "test acc:0.977\n",
      "\n",
      "50000/50000 [==============================] - 3s - loss: 0.0116 - acc: 0.9989 - val_loss: 0.0848 - val_acc: 0.9752\n",
      "Epoch 38/50\n",
      "49792/50000 [============================>.] - ETA: 0s - loss: 0.0105 - acc: 0.9990\n",
      "test acc:0.9769\n",
      "\n",
      "50000/50000 [==============================] - 3s - loss: 0.0105 - acc: 0.9990 - val_loss: 0.0820 - val_acc: 0.9764\n",
      "Epoch 39/50\n",
      "49792/50000 [============================>.] - ETA: 0s - loss: 0.0095 - acc: 0.9994\n",
      "test acc:0.9771\n",
      "\n",
      "50000/50000 [==============================] - 3s - loss: 0.0096 - acc: 0.9993 - val_loss: 0.0839 - val_acc: 0.9760\n",
      "Epoch 40/50\n",
      "49920/50000 [============================>.] - ETA: 0s - loss: 0.0088 - acc: 0.9994\n",
      "test acc:0.9772\n",
      "\n",
      "50000/50000 [==============================] - 3s - loss: 0.0088 - acc: 0.9994 - val_loss: 0.0828 - val_acc: 0.9764\n"
     ]
    }
   ],
   "source": [
    "# early stop if the validatiaon accuracy doesn't improve\n",
    "earlystop = EarlyStopping(monitor='val_acc', min_delta=0, patience=5, verbose=0, mode='auto')\n",
    "class TestCallback(Callback):\n",
    "    def __init__(self):\n",
    "        self.test_acc = []\n",
    "\n",
    "    def on_epoch_end(self, epoch, logs={}):\n",
    "        _, test_acc = model.evaluate(test_set[0], test_set[1], verbose=0,batch_size=128)\n",
    "        self.test_acc.append(test_acc)\n",
    "        print(\"\\ntest acc:{}\\n\".format(test_acc))\n",
    "        \n",
    "test_history = TestCallback()\n",
    "h = model.fit(train_set[0], train_set[1], batch_size=128, nb_epoch=50, verbose=1,\n",
    "              validation_data=(valid_set[0], valid_set[1]),callbacks=[earlystop,test_history])"
   ]
  },
  {
   "cell_type": "code",
   "execution_count": 36,
   "metadata": {
    "collapsed": false,
    "deletable": true,
    "editable": true
   },
   "outputs": [
    {
     "name": "stdout",
     "output_type": "stream",
     "text": [
      "training accuracy:0.99936\n",
      "validattion accuracy:0.9779\n",
      "No. epoch with best accurary: 34\n"
     ]
    },
    {
     "data": {
      "image/png": "[encoded data removed]",
      "text/plain": [
       "<matplotlib.figure.Figure at 0x139f6cb70>"
      ]
     },
     "metadata": {},
     "output_type": "display_data"
    }
   ],
   "source": [
    "ptrain = h.history['acc']\n",
    "pvalidataion = h.history['val_acc']\n",
    "ptest = test_history.test_acc\n",
    "plot(ptrain[2:], 'r',label='training')\n",
    "plot(pvalidataion[2:], 'g',label='validation')\n",
    "plot(ptest[2:],'b',label='test')\n",
    "legend(loc=4)\n",
    "print(\"training accuracy:{}\\nvalidattion accuracy:{}\\nNo. epoch with best accurary: {}\".format(np.max(ptrain), np.max(pvalidataion), 1+np.argmax(pvalidataion)))"
   ]
  },
  {
   "cell_type": "markdown",
   "metadata": {
    "deletable": true,
    "editable": true
   },
   "source": [
    "### Calculate performance on the test data"
   ]
  },
  {
   "cell_type": "code",
   "execution_count": 22,
   "metadata": {
    "collapsed": false
   },
   "outputs": [
    {
     "name": "stdout",
     "output_type": "stream",
     "text": [
      "0.9759\n"
     ]
    }
   ],
   "source": [
    "test_loss, test_acc = model.evaluate(test_set[0], test_set[1], verbose=0,batch_size=128)\n",
    "print(test_acc)"
   ]
  },
  {
   "cell_type": "markdown",
   "metadata": {
    "deletable": true,
    "editable": true
   },
   "source": [
    "## HW 1\n",
    "### Due Friday, Feb. 10th by the end of day. Submit your ipython notebook in moodle. Your notebook must contain both your code and the results of the experiments. You must clearly mark the plot/result sections."
   ]
  },
  {
   "cell_type": "code",
   "execution_count": 7,
   "metadata": {
    "collapsed": true
   },
   "outputs": [],
   "source": [
    "def vary_architecture(num_layer=1,num_neuron=100,activation='sigmoid',patience=10,max_epoch=200,verbose=0):\n",
    "    \"\"\"train a network with different architecture, return the history of training, validation and test accuracy\"\"\"\n",
    "    \n",
    "    # construct the model\n",
    "    \n",
    "    model = Sequential()\n",
    "    # first hidden layer\n",
    "    model.add(Dense(num_neuron, activation=activation, input_dim=img_dim))\n",
    "    # the rest hidden layer\n",
    "    for i in range(num_layer-1):\n",
    "        model.add(Dense(num_neuron, activation=activation))\n",
    "    model.add(Dense(n_class, activation=activation))\n",
    "    model.compile(loss='sparse_categorical_crossentropy', optimizer='adam', metrics=['accuracy'])\n",
    "    \n",
    "    if verbose == 1:\n",
    "        model.summary()\n",
    "    \n",
    "    # two callback functions: early stop and test history\n",
    "    \n",
    "    class TestCallback(Callback):\n",
    "        def __init__(self):\n",
    "            self.test_acc = []\n",
    "        def on_epoch_end(self, epoch, logs={}):\n",
    "            _, test_acc = model.evaluate(test_set[0], test_set[1], verbose=0,batch_size=128)\n",
    "            self.test_acc.append(test_acc)\n",
    "    earlystop = EarlyStopping(monitor='val_acc', min_delta=0, patience=patience, verbose=0, mode='auto') \n",
    "    test_history = TestCallback()\n",
    "    \n",
    "    # train the model\n",
    "    \n",
    "    h = model.fit(train_set[0], train_set[1], batch_size=128, nb_epoch=max_epoch, verbose=verbose,\n",
    "              validation_data=(valid_set[0], valid_set[1]),callbacks=[earlystop,test_history])\n",
    "    \n",
    "    # training history\n",
    "    history = {}\n",
    "    history['train_acc'] = h.history['acc']\n",
    "    history['val_acc'] = h.history['val_acc']\n",
    "    history['test_acc'] = test_history.test_acc\n",
    "    \n",
    "    return history\n",
    "    \n",
    "    "
   ]
  },
  {
   "cell_type": "code",
   "execution_count": 16,
   "metadata": {
    "collapsed": false,
    "scrolled": true
   },
   "outputs": [
    {
     "data": {
      "text/plain": [
       "<matplotlib.legend.Legend at 0x2b3e15b674a8>"
      ]
     },
     "execution_count": 16,
     "metadata": {},
     "output_type": "execute_result"
    },
    {
     "data": {
      "image/png": "[encoded data removed]",
      "text/plain": [
       "<matplotlib.figure.Figure at 0x2b3e158f3b70>"
      ]
     },
     "metadata": {},
     "output_type": "display_data"
    }
   ],
   "source": [
    "history1 = vary_architecture(num_layer=1,num_neuron=100,max_epoch=200)\n",
    "plot(history1['train_acc'], 'r',label='training')\n",
    "plot(history1['val_acc'], 'g',label='validation')\n",
    "plot(history1['test_acc'],'b',label='test')\n",
    "legend(loc=4)"
   ]
  },
  {
   "cell_type": "markdown",
   "metadata": {
    "deletable": true,
    "editable": true
   },
   "source": [
    "### Task 1\n",
    "The example given above used a 2-layered NN (one internal layer and one output layer). Try increase the number of neurons in the internal layer. Experiment with 200, 500, 1000. (If your computer is powerful enough, you can go higher.) \n",
    "- Plot the training accuracy vs number of internal neurons. (You need to train the model enough epoches so that the training accuracy converges (or almost converges). Use the (almost) converged value in your plot. \n",
    "- Plot number of epoches it takes for the training acc to reaches 0.99 vs number of internal-layer neurons. \n",
    "- Plot the best test accuracy you can achieve vs number of internal-layer neurons. (Note the best test acc may be achieved before train acc reaches the best value.)\n",
    "- What are the trends you observe in these plots? Comment on your observations. "
   ]
  },
  {
   "cell_type": "code",
   "execution_count": 8,
   "metadata": {
    "collapsed": false
   },
   "outputs": [
    {
     "name": "stdout",
     "output_type": "stream",
     "text": [
      "\n",
      "\n",
      "========== 200 neurons ==========\n",
      "\n",
      "\n",
      "\n",
      "\n",
      "========== 500 neurons ==========\n",
      "\n",
      "\n",
      "\n",
      "\n",
      "========== 1000 neurons ==========\n",
      "\n",
      "\n",
      "\n",
      "\n",
      "========== 1500 neurons ==========\n",
      "\n",
      "\n",
      "\n",
      "\n",
      "========== 2000 neurons ==========\n",
      "\n",
      "\n",
      "\n",
      "\n",
      "========== 2500 neurons ==========\n",
      "\n",
      "\n",
      "\n",
      "\n",
      "========== 3000 neurons ==========\n",
      "\n",
      "\n"
     ]
    }
   ],
   "source": [
    "num_neurons = [200,500,1000,1500,2000,2500,3000]\n",
    "result = {}\n",
    "for n in num_neurons:\n",
    "    print('\\n')\n",
    "    print('========== {} neurons =========='.format(n))\n",
    "    result[n] = {}\n",
    "    history = vary_architecture(num_layer=1,num_neuron=n,max_epoch=100,patience=100) # train 100 epoch\n",
    "    train_acc = np.array(history['train_acc'])\n",
    "    test_acc = np.array(history['test_acc'])\n",
    "    result[n]['best_train_acc'] = np.max(train_acc)\n",
    "    result[n]['epoch_to_99_perct'] = np.where(train_acc > 0.99)[0][0] + 1\n",
    "    result[n]['best_test_acc'] = np.max(test_acc)\n",
    "    result[n]['epoch_to_best_test_acc'] = np.argmax(test_acc) + 1\n",
    "    print('\\n')"
   ]
  },
  {
   "cell_type": "code",
   "execution_count": 11,
   "metadata": {
    "collapsed": false
   },
   "outputs": [
    {
     "data": {
      "text/plain": [
       "<matplotlib.text.Text at 0x2b117949b550>"
      ]
     },
     "execution_count": 11,
     "metadata": {},
     "output_type": "execute_result"
    },
    {
     "data": {
      "image/png": "[encoded data removed]",
      "text/plain": [
       "<matplotlib.figure.Figure at 0x2b1179389a90>"
      ]
     },
     "metadata": {},
     "output_type": "display_data"
    }
   ],
   "source": [
    "fig,((ax1,ax2),(ax3,ax4)) = subplots(2,2,figsize=(10,4),sharex=True)\n",
    "\n",
    "ax1.set_title('best train acc',fontsize=10)\n",
    "ax1.plot(num_neurons,[result[n]['best_train_acc'] for n in num_neurons],'.-')\n",
    "ax2.set_title('best test acc',fontsize=10)\n",
    "ax2.plot(num_neurons,[result[n]['best_test_acc'] for n in num_neurons],'.-')\n",
    "ax3.set_title('No. epoch to 99% train acc',fontsize=10)\n",
    "ax3.plot(num_neurons,[result[n]['epoch_to_99_perct'] for n in num_neurons],'.-')\n",
    "ax4.set_title('No. epoch to best test acc',fontsize=10)\n",
    "ax4.plot(num_neurons,[result[n]['epoch_to_best_test_acc'] for n in num_neurons],'.-')\n",
    "ax3.set_xlabel('No. neurons', fontsize=10)\n",
    "ax4.set_xlabel('No. neurons', fontsize=10)"
   ]
  },
  {
   "cell_type": "markdown",
   "metadata": {},
   "source": [
    "There are a few observations:\n",
    "1. The test accuracy increases as we include more neurons.\n",
    "2. The train accuracy is almost 1 for all cases, but slightly decrease as we increase the number of neurons.\n",
    "3. The number of epoch to reach 99% decreases.\n",
    "4. The network takes more epoch to train to reach the best test accuracy, as we increase the number of neurons."
   ]
  },
  {
   "cell_type": "markdown",
   "metadata": {
    "deletable": true,
    "editable": true
   },
   "source": [
    "### Task 2\n",
    "Add more (internal) layers to the model, fix the number of neurons in each layer to be 100. Experiment with 3, 5, 10 internal layers. (If your computer is powerful enough, you can go higher.) \n",
    "- Plot the training accuracy vs number of internal layerss.  \n",
    "- Plot the best test accuracy you can achieve vs number of internal layers.\n",
    "- What are the trends you observe in these plots? Comment on your observations. "
   ]
  },
  {
   "cell_type": "code",
   "execution_count": 14,
   "metadata": {
    "collapsed": false
   },
   "outputs": [
    {
     "name": "stdout",
     "output_type": "stream",
     "text": [
      "========== 3 layers ==========\n",
      "\n",
      "\n",
      "========== 5 layers ==========\n",
      "\n",
      "\n",
      "========== 10 layers ==========\n",
      "\n",
      "\n",
      "========== 20 layers ==========\n",
      "\n",
      "\n",
      "========== 30 layers ==========\n",
      "\n",
      "\n"
     ]
    }
   ],
   "source": [
    "num_layers = [3,5,10,20,30]\n",
    "result = {}\n",
    "for n in num_layers:\n",
    "    print('========== {} layers =========='.format(n))\n",
    "    result[n] = {}\n",
    "    history = vary_architecture(num_layer=n,num_neuron=100,max_epoch=100,patience=100)\n",
    "    train_acc = np.array(history['train_acc'])\n",
    "    test_acc = np.array(history['test_acc'])\n",
    "    result[n]['best_train_acc'] = np.max(train_acc)\n",
    "    result[n]['best_test_acc'] = np.max(test_acc)\n",
    "    result[n]['epoch_to_best_test_acc'] = np.argmax(test_acc) + 1\n",
    "    print('\\n')"
   ]
  },
  {
   "cell_type": "code",
   "execution_count": 19,
   "metadata": {
    "collapsed": false
   },
   "outputs": [
    {
     "data": {
      "text/plain": [
       "<matplotlib.legend.Legend at 0x2b11825583c8>"
      ]
     },
     "execution_count": 19,
     "metadata": {},
     "output_type": "execute_result"
    },
    {
     "data": {
      "image/png": "[encoded data removed]",
      "text/plain": [
       "<matplotlib.figure.Figure at 0x2b11825022b0>"
      ]
     },
     "metadata": {},
     "output_type": "display_data"
    }
   ],
   "source": [
    "plot(num_layers,[result[n]['best_train_acc'] for n in num_layers],'.-',label='train acc')\n",
    "plot(num_layers,[result[n]['best_test_acc'] for n in num_layers],'.-',label='test acc')\n",
    "xlabel('number of layers')\n",
    "ylabel('accuracy')\n",
    "legend()"
   ]
  },
  {
   "cell_type": "markdown",
   "metadata": {
    "deletable": true,
    "editable": true
   },
   "source": [
    "### Task 3\n",
    "Explore different activation function for the neurons in the internal layers. Fix the model to have 3 internal layers, each with 100 neurons. Experiment with 'sigmoid',\n",
    "'tanh', and 'relu' as activation function for the internal neurons. \n",
    "- Time your training. Bar plot time (in sec) it takes to run 30 epoches of training under different activation.  \n",
    "- Bar plot the best test accuracy you can achieve with respect to different activation.\n",
    "- What are the trends you observe in these plots? Comment on your observations. "
   ]
  },
  {
   "cell_type": "code",
   "execution_count": 10,
   "metadata": {
    "collapsed": false,
    "deletable": true,
    "editable": true
   },
   "outputs": [
    {
     "name": "stdout",
     "output_type": "stream",
     "text": [
      "\n",
      "\n",
      "========== sigmoid activation ==========\n",
      "\n",
      "\n",
      "\n",
      "\n",
      "========== sigmoid activation ==========\n",
      "\n",
      "\n",
      "\n",
      "\n",
      "========== sigmoid activation ==========\n",
      "\n",
      "\n"
     ]
    }
   ],
   "source": [
    "activation_type = ['sigmoid','tanh','relu']\n",
    "result = {}\n",
    "for activation in activation_type:\n",
    "    print('\\n')\n",
    "    print('========== {} activation =========='.format(activation))\n",
    "    result[activation] = {}\n",
    "    \n",
    "    walltime = time.time()\n",
    "    history = vary_architecture(num_layer=3,num_neuron=100,activation=activation,max_epoch=30)\n",
    "    walltime = time.time() - walltime\n",
    "    \n",
    "    train_acc = np.array(history['train_acc'])\n",
    "    test_acc = np.array(history['test_acc'])\n",
    "    result[activation]['best_test_acc'] = np.max(test_acc)\n",
    "    result[activation]['walltime'] = np.max(walltime)\n",
    "    print('\\n')"
   ]
  },
  {
   "cell_type": "code",
   "execution_count": 35,
   "metadata": {
    "collapsed": false,
    "deletable": true,
    "editable": true
   },
   "outputs": [
    {
     "data": {
      "text/plain": [
       "<matplotlib.legend.Legend at 0x2affe5849dd8>"
      ]
     },
     "execution_count": 35,
     "metadata": {},
     "output_type": "execute_result"
    },
    {
     "data": {
      "image/png": "[encoded data removed]",
      "text/plain": [
       "<matplotlib.figure.Figure at 0x2affe57aa5c0>"
      ]
     },
     "metadata": {},
     "output_type": "display_data"
    }
   ],
   "source": [
    "N = 3\n",
    "ind = np.arange(N)                # the x locations for the groups\n",
    "width = 0.35                      # the width of the bars\n",
    "\n",
    "fig = plt.figure()\n",
    "ax = fig.add_subplot(111)\n",
    "rects1 = ax.bar(ind, [result[i]['best_test_acc'] for i in activation_type], width,\n",
    "                color='#d62728',\n",
    "                error_kw=dict(elinewidth=2,ecolor='red'))\n",
    "\n",
    "rects2 = ax.bar(ind+width, [result[i]['walltime']/100 for i in activation_type], width,\n",
    "                    \n",
    "                    error_kw=dict(elinewidth=2,ecolor='black'))\n",
    "xTickMarks = [str(i) for i in activation_type]\n",
    "ax.set_xticks(ind+width)\n",
    "xtickNames = ax.set_xticklabels(xTickMarks)\n",
    "setp(xtickNames, rotation=45, fontsize=10)\n",
    "ax.legend( (rects1[0], rects2[0]), ('test accuracy', 'walltime(100s)') )"
   ]
  },
  {
   "cell_type": "markdown",
   "metadata": {},
   "source": [
    "It appears that the sigmoid has the best accuracy but are more difficult to train. Tanh and relu have about the same accuracy, but relu is slightly more difficult to train, and both of them train faster than sigmoid."
   ]
  },
  {
   "cell_type": "code",
   "execution_count": null,
   "metadata": {
    "collapsed": true
   },
   "outputs": [],
   "source": []
  }
 ],
 "metadata": {
  "anaconda-cloud": {},
  "kernelspec": {
   "display_name": "Python [default]",
   "language": "python",
   "name": "python3"
  },
  "language_info": {
   "codemirror_mode": {
    "name": "ipython",
    "version": 3
   },
   "file_extension": ".py",
   "mimetype": "text/x-python",
   "name": "python",
   "nbconvert_exporter": "python",
   "pygments_lexer": "ipython3",
   "version": "3.5.2"
  }
 },
 "nbformat": 4,
 "nbformat_minor": 0
}
